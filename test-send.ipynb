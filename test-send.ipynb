{
 "cells": [
  {
   "cell_type": "code",
   "execution_count": 8,
   "metadata": {},
   "outputs": [],
   "source": [
    "import requests\n",
    "import os\n",
    "import json\n",
    "\n",
    "url = \"http://localhost:8530/predict\"\n",
    "\n",
    "# send images.zip in FILES\n",
    "files = {'images.zip': open(os.path.join(os.getcwd(), 'images.zip'), 'rb')}"
   ]
  },
  {
   "cell_type": "code",
   "execution_count": 3,
   "metadata": {},
   "outputs": [],
   "source": [
    "# send the post request\n",
    "r = requests.post(url, files=files)"
   ]
  },
  {
   "cell_type": "code",
   "execution_count": 10,
   "metadata": {},
   "outputs": [
    {
     "data": {
      "text/plain": [
       "{'chenopodiaceae': 2,\n",
       " 'cupressaceae': 5,\n",
       " 'olea': 1,\n",
       " 'pinus': 4,\n",
       " 'urticaceae': 1,\n",
       " 'causarina': 8,\n",
       " 'palmaceae': 7,\n",
       " 'plantago': 1,\n",
       " 'platanus': 0,\n",
       " 'poaceae': 8,\n",
       " 'rumex': 0}"
      ]
     },
     "execution_count": 10,
     "metadata": {},
     "output_type": "execute_result"
    }
   ],
   "source": [
    "pollen_count_report = json.loads(r.headers['pollen_count_report'])\n",
    "pollen_count_report"
   ]
  },
  {
   "cell_type": "code",
   "execution_count": 14,
   "metadata": {},
   "outputs": [],
   "source": [
    "# load zip file from r.content\n",
    "import zipfile\n",
    "import io\n",
    "\n",
    "z = zipfile.ZipFile(io.BytesIO(r.content))\n",
    "# extract the zip file in the current directory/test\n",
    "z.extractall(os.path.join(os.getcwd(), 'test'))\n",
    "\n",
    "# Lo hace bien\n"
   ]
  }
 ],
 "metadata": {
  "kernelspec": {
   "display_name": "docker-env",
   "language": "python",
   "name": "python3"
  },
  "language_info": {
   "codemirror_mode": {
    "name": "ipython",
    "version": 3
   },
   "file_extension": ".py",
   "mimetype": "text/x-python",
   "name": "python",
   "nbconvert_exporter": "python",
   "pygments_lexer": "ipython3",
   "version": "3.8.6"
  },
  "orig_nbformat": 4
 },
 "nbformat": 4,
 "nbformat_minor": 2
}
